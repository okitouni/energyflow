{
 "cells": [
  {
   "cell_type": "code",
   "execution_count": 2,
   "metadata": {
    "code_folding": [
     0,
     11,
     14,
     16,
     26,
     36,
     41,
     46
    ]
   },
   "outputs": [],
   "source": [
    "#imports and defs\n",
    "import pythia8\n",
    "from pyjet import cluster, DTYPE_PTEPM\n",
    "import pandas as pd \n",
    "import numpy as np\n",
    "from matplotlib import pyplot as plt\n",
    "from matplotlib.pyplot import cm\n",
    "from matplotlib.colors import LinearSegmentedColormap\n",
    "from tqdm import tqdm\n",
    "plt.style.use(\"dark_paper\")\n",
    "\n",
    "def show(vec):\n",
    "    string = (4*\"{:.2e} \").format(vec.e(),vec.px(),vec.py(),vec.pz())\n",
    "    print(string)\n",
    "def to_array(vec):\n",
    "    return np.array([vec.e(),vec.px(),vec.py(),vec.pz()])\n",
    "def prtStable(pid):\n",
    "    if abs(pid) == 211: return True #pion\n",
    "    if abs(pid) == 321: return True #K+-\n",
    "    if abs(pid) == 11: return True #electron\n",
    "    if abs(pid) == 13: return True #muon?\n",
    "    if abs(pid) == 2212: return True #proton\n",
    "    #\n",
    "    #if abs(pid) == 22: return True #gamma\n",
    "    #if abs(pid) == 130: return True #K_l\n",
    "    return False\n",
    "def heavyFlavor(pid):\n",
    "    if abs(pid) == 411: return True\n",
    "    if abs(pid) == 421: return True\n",
    "    if abs(pid) == 431: return True\n",
    "    if abs(pid) == 4122: return True\n",
    "    if abs(pid) == 511: return True\n",
    "    if abs(pid) == 521: return True\n",
    "    if abs(pid) == 531: return True\n",
    "    if abs(pid) == 5122: return True\n",
    "    return False\n",
    "def getData(prt):\n",
    "    data = [prt.index(),prt.name(),prt.id(),prt.status(),prt.mother1(),prt.mother2(),\n",
    "            prt.daughter1(),prt.daughter2(),prt.e(),prt.px(),prt.py(),prt.pz(),prt.m(),prt.pT(),prt.eta(),prt.phi(),prt.theta()]\n",
    "    keys = [\"N\",\"NAME\",\"ID\",\"STATUS\",\"M1\",\"M2\",\"D1\",\"D2\",\"E\", \"px\", \"py\", \"pz\" , \"mass\",\"pT\",\"eta\",\"phi\",\"theta\"]\n",
    "    return {key:value for key,value in zip(keys,data)}\n",
    "def getDataLight(prt):\n",
    "    data = [prt.index(),prt.name(),prt.id(),prt.status(),\n",
    "            prt.e(),prt.px(),prt.py(),prt.pz(),prt.m(),prt.pT(),prt.eta(),prt.phi(),prt.theta()]\n",
    "    keys = [\"N\",\"NAME\",\"ID\",\"STATUS\",\"E\", \"px\", \"py\", \"pz\" , \"mass\",\"pT\",\"eta\",\"phi\",\"theta\"]\n",
    "    return {key:value for key,value in zip(keys,data)}\n",
    "def getInfo(prt):\n",
    "    string = \"{:^2d} {:^11s} {:^5d} {:^6d} {:<3d} {:>3d}  {:<3d} {:>3d}    \".format(prt.index(),prt.name(),prt.id(),\n",
    "                                                                       prt.status(),\n",
    "                                                                       prt.mother1(),prt.mother2(),\n",
    "                                                                       prt.daughter1(),prt.daughter2())\n",
    "    string += (5*\" {:>8.3f} \").format(prt.e(),prt.px(),prt.py(),prt.pz(),prt.m())\n",
    "    return string"
   ]
  },
  {
   "cell_type": "code",
   "execution_count": 3,
   "metadata": {
    "code_folding": [
     0
    ]
   },
   "outputs": [
    {
     "name": "stdout",
     "output_type": "stream",
     "text": [
      "Pythia generator initialized successfully:  True\n"
     ]
    }
   ],
   "source": [
    "# Setup Pythia Parameters\n",
    "# Generator. Shorthand for event.\n",
    "pythia = pythia8.Pythia()\n",
    "\n",
    "# Set up incoming beams, for frame with unequal beam energies.\n",
    "pythia.readString(\"Beams:frameType = 2\")\n",
    "# BeamA = proton.\n",
    "pythia.readString(\"Beams:idA = 2212\")\n",
    "pythia.settings.parm(\"Beams:eA\", 100.)\n",
    "# BeamB = electron.\n",
    "pythia.readString(\"Beams:idB = 11\")#11\n",
    "pythia.settings.parm(\"Beams:eB\", 10.) # used a 100 was good before\n",
    "# Phase-space cut: minimal Q2 of process.\n",
    "pythia.settings.parm(\"PhaseSpace:Q2Min\", 10.)\n",
    "# Set up DIS process within some phase space.\n",
    "# Neutral current (with gamma/Z interference).\n",
    "pythia.readString(\"WeakBosonExchange:ff2ff(t:gmZ) = on\")\n",
    "# Uncomment to allow charged current.\n",
    "pythia.readString(\"WeakBosonExchange:ff2ff(t:W) = on\")\n",
    "# Set dipole recoil on. Necessary for DIS + shower.\n",
    "pythia.readString(\"SpaceShower:dipoleRecoil = on\")\n",
    "# Allow emissions up to the kinematical limit,\n",
    "# since rate known to match well to matrix elements everywhere.\n",
    "pythia.readString(\"SpaceShower:pTmaxMatch = 2\")\n",
    "# QED radiation off lepton not handled yet by the new procedure.\n",
    "pythia.readString(\"PDF:lepton = off\")\n",
    "pythia.readString(\"TimeShower:QEDshowerByL = off\")\n",
    "# Setting the random seed\n",
    "pythia.readString(\"Random:setSeed = on\")\n",
    "pythia.readString(\"Random:seed = 0\")\n",
    "# Removing FSR and ISR\n",
    "pythia.readString(\"PartonLevel:FSR = off\")\n",
    "pythia.readString(\"PartonLevel:ISR = off\")\n",
    "# # QCD pp\n",
    "# pythia.readString(\"HardQCD:all = on\");\n",
    "# pythia.readString(\"PhaseSpace:pTHatMin = .2\");\n",
    "# Initialize.\n",
    "print(\"Pythia generator initialized successfully: \", pythia.init())"
   ]
  },
  {
   "cell_type": "code",
   "execution_count": 4,
   "metadata": {},
   "outputs": [],
   "source": [
    "def selection(prt):\n",
    "    sel = prt.isFinal() and prt.vProd().pAbs()<1000 or abs(prt.id())<=5 or prt.id()==22 #and prtStable(prt.id()) # and prt.isCharged()\n",
    "    return sel"
   ]
  },
  {
   "cell_type": "code",
   "execution_count": 13,
   "metadata": {
    "code_folding": [
     0
    ]
   },
   "outputs": [],
   "source": [
    "# keys\n",
    "cols_to_save = [\"EVENT\", \"N\",\"NAME\",\"ID\",\"STATUS\",\"M1\",\"M2\",\"D1\",\"D2\",\"E\", \"px\", \"py\", \"pz\" , \"mass\",\"pT\",\"eta\",\"phi\",\"theta\"]\n",
    "#cols_to_save = [\"EVENT\", 'N', \"NAME\",\"ID\",\"STATUS\",\"E\", \"px\", \"py\", \"pz\" , \"mass\",\"pT\",\"eta\",\"phi\",\"theta\"]\n",
    "convert_dict = {'NAME': 'category', \n",
    "                'ID': 'category',\n",
    "                'mass': 'category',\n",
    "                'STATUS' : 'int8',\n",
    "                'EVENT': 'int32',\n",
    "               } \n",
    "for key in [\"E\", \"px\", \"py\", \"pz\" ,\"pT\",\"eta\",\"phi\",\"theta\"]:\n",
    "    convert_dict[key] = 'float32'\n",
    "for key in [\"N\", \"M1\",\"M2\",\"D1\",\"D2\"]:\n",
    "    convert_dict[key] = 'uint8'"
   ]
  },
  {
   "cell_type": "code",
   "execution_count": 14,
   "metadata": {
    "code_folding": []
   },
   "outputs": [
    {
     "name": "stderr",
     "output_type": "stream",
     "text": [
      "100%|██████████| 100000/100000 [01:26<00:00, 1155.55it/s]\n"
     ]
    }
   ],
   "source": [
    "#%%capture out\n",
    "nEvents = 100000\n",
    "q_vec = list()\n",
    "scalars = list()\n",
    "targets = list()\n",
    "data0 = {key:[] for key in cols_to_save}\n",
    "data1 = {key:[] for key in cols_to_save}\n",
    "i=0\n",
    "for iEvent in tqdm(range(0,nEvents)):\n",
    "    if not pythia.next(): continue\n",
    "    event = pythia.event\n",
    "    ki  = event[2].p() #in e\n",
    "    kf = event[6].p() # out e\n",
    "    P  = event[1].p() # in p \n",
    "    q  = ki - kf\n",
    "    Q2 = -q.m2Calc() # Q^2\n",
    "    xB = Q2/(2*(P*q)) #Bjorken X\n",
    "    y  = P*q/(P*ki)\n",
    "    s  = (ki+P).mCalc()  \n",
    "    mat = pythia8.RotBstMatrix()\n",
    "    mat.toCMframe(q, P*xB*2)\n",
    "    vec = P*xB+q\n",
    "    vec.rotbst(mat)\n",
    "    scalars.append([Q2,xB,y,s])\n",
    "    targets.append(to_array(vec)) #breit target\n",
    "    q_vec.append(to_array(q)) #lab q #lab P is know (100,0,0, ~99.997)\n",
    "    for prt in event:\n",
    "        #if selection(prt) or prt.index()in[1,2,5]:\n",
    "            prt_dict = getData(prt)\n",
    "            prt_dict['EVENT'] = i\n",
    "            for key in cols_to_save:\n",
    "                data0[key].append(prt_dict[key])\n",
    "    for prt in event:\n",
    "        #if selection(prt) or prt.index()in[1,2,5] or prt:\n",
    "            prt.rotbst(mat)\n",
    "            prt_dict = getData(prt)\n",
    "            prt_dict['EVENT'] = i\n",
    "            for key in cols_to_save:\n",
    "                data1[key].append(prt_dict[key])\n",
    "    i+=1\n",
    "                \n",
    "df0 = pd.DataFrame(data0)\n",
    "df1 = pd.DataFrame(data1)\n",
    "df0 = df0.astype(convert_dict)\n",
    "df1 = df1.astype(convert_dict)\n",
    "df0.to_hdf(\"data/EIC/lab0.h5\", key=f\"data\",complib='zlib', complevel=9, format='table')\n",
    "df1.to_hdf(\"data/EIC/breit0.h5\", key=f\"data\",complib='zlib', complevel=9, format='table')\n",
    "pd.DataFrame(targets,columns=['E','px', 'py','pz'], dtype='float32').to_hdf(\"data/EIC/targets_breit0.h5\",key='data')\n",
    "pd.DataFrame(q_vec,columns=['E','px', 'py','pz'], dtype='float32').to_hdf(\"data/EIC/q_lab0.h5\",key='data')\n",
    "pd.DataFrame(scalars, columns=['Q2', 'xB', 'y', 's'], dtype='float32').to_hdf(\"data/EIC/scalars0.h5\",key='data')"
   ]
  },
  {
   "cell_type": "code",
   "execution_count": 18,
   "metadata": {},
   "outputs": [],
   "source": [
    "df = pd.read_hdf(\"data/EIC/breit0.h5\", key=f\"data\")\n",
    "scalars = pd.read_hdf(\"data/EIC/scalars0.h5\", key=f\"data\")\n",
    "targets = pd.read_hdf(\"data/EIC/targets_breit0.h5\", key=f\"data\")"
   ]
  },
  {
   "cell_type": "code",
   "execution_count": 19,
   "metadata": {},
   "outputs": [
    {
     "name": "stdout",
     "output_type": "stream",
     "text": [
      "(99995, 4)\n",
      "(99995, 4)\n",
      "99994\n"
     ]
    }
   ],
   "source": [
    "print(scalars.shape)\n",
    "print(targets.shape)\n",
    "print(df['EVENT'].max())"
   ]
  },
  {
   "cell_type": "code",
   "execution_count": null,
   "metadata": {},
   "outputs": [],
   "source": [
    "Rs = np.linspace(np.pi/4,3*np.pi/4,100)\n",
    "losses = []\n",
    "for R in Rs:\n",
    "    loss = 0\n",
    "    for i in range(df['EVENT'].max()+1):\n",
    "        d = df[(df['EVENT']==i)&(df['STATUS']>0)][1:]\n",
    "        psi = (np.pi - d.theta.values)\n",
    "        Jet_region = d[R < psi.round(10)]\n",
    "        pred = Jet_region.loc[:,['E','px','py','pz']].sum().values\n",
    "        target = targets.iloc[i]\n",
    "        loss += np.mean((pred-target)**2)\n",
    "    loss /= df['EVENT'].max()\n",
    "    losses.append(loss)"
   ]
  },
  {
   "cell_type": "code",
   "execution_count": null,
   "metadata": {},
   "outputs": [],
   "source": [
    "fig, ax = plt.subplots(1,1,figsize=(8,5),dpi=120)\n",
    "plt.plot(Rs,losses, label= \"Cone\")\n",
    "plt.axhline(.6,ls=\"--\",c='red',label=\"EFN\")\n",
    "plt.legend()\n",
    "#plt.yscale(\"log\")\n",
    "plt.ylabel(\"quadratic error\")\n",
    "plt.xlabel(\"R\")\n",
    "plt.show()"
   ]
  },
  {
   "cell_type": "code",
   "execution_count": null,
   "metadata": {},
   "outputs": [],
   "source": []
  }
 ],
 "metadata": {
  "kernelspec": {
   "display_name": "Python 3",
   "language": "python",
   "name": "python3"
  }
 },
 "nbformat": 4,
 "nbformat_minor": 4
}
