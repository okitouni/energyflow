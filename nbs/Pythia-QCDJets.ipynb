{
 "cells": [
  {
   "cell_type": "code",
   "execution_count": 1,
   "metadata": {},
   "outputs": [],
   "source": [
    "import pythia8\n",
    "from pyjet import cluster, DTYPE_PTEPM\n",
    "import pandas as pd \n",
    "import numpy as np\n",
    "from matplotlib import pyplot as plt\n",
    "from matplotlib.pyplot import cm\n",
    "from matplotlib.colors import LinearSegmentedColormap\n",
    "plt.style.use(\"dark_paper\")"
   ]
  },
  {
   "cell_type": "code",
   "execution_count": 2,
   "metadata": {
    "code_folding": [
     0,
     10,
     20,
     29
    ]
   },
   "outputs": [],
   "source": [
    "def prtStable(pid):\n",
    "    if abs(pid) == 211: return True #pion\n",
    "    if abs(pid) == 321: return True #K+-\n",
    "    if abs(pid) == 11: return True #electron\n",
    "    if abs(pid) == 13: return True #muon\n",
    "    if abs(pid) == 2212: return True #proton\n",
    "    #\n",
    "    #if abs(pid) == 22: return True #gamma\n",
    "    #if abs(pid) == 130: return True #K_l\n",
    "    return False\n",
    "def heavyFlavor(pid):\n",
    "    if abs(pid) == 411: return True\n",
    "    if abs(pid) == 421: return True\n",
    "    if abs(pid) == 431: return True\n",
    "    if abs(pid) == 4122: return True\n",
    "    if abs(pid) == 511: return True\n",
    "    if abs(pid) == 521: return True\n",
    "    if abs(pid) == 531: return True\n",
    "    if abs(pid) == 5122: return True\n",
    "    return False\n",
    "def getData(prt):\n",
    "    data = [prt.index(),prt.name(),prt.id(),prt.status(),prt.mother1(),prt.mother2(),\n",
    "            prt.daughter1(),prt.daughter2(),prt.e(),prt.px(),prt.py(),prt.pz(),prt.m(),prt.pT(),prt.eta(),prt.phi(),prt.theta()]\n",
    "    keys = [\"N\",\"NAME\",\"ID\",\"STATUS\",\"M1\",\"M2\",\"D1\",\"D2\",\"E\", \"px\", \"py\", \"pz\" , \"mass\",\"pT\",\"eta\",\"phi\",\"theta\"]\n",
    "    return {key:value for key,value in zip(keys,data)}\n",
    "def getDataLite(prt):\n",
    "    data = [prt.index(), prt.e(),prt.px(),prt.py(),prt.pz()]\n",
    "    keys = [\"N\", \"E\", \"px\", \"py\", \"pz\"]\n",
    "    return {key:value for key,value in zip(keys,data)}\n",
    "def getInfo(prt):\n",
    "    string = \"{:^2d} {:^11s} {:^5d} {:^6d} {:<3d} {:>3d}  {:<3d} {:>3d}    \".format(prt.index(),prt.name(),prt.id(),\n",
    "                                                                       prt.status(),\n",
    "                                                                       prt.mother1(),prt.mother2(),\n",
    "                                                                       prt.daughter1(),prt.daughter2())\n",
    "    string += (5*\" {:>8.3f} \").format(prt.e(),prt.px(),prt.py(),prt.pz(),prt.m())\n",
    "    return string"
   ]
  },
  {
   "cell_type": "code",
   "execution_count": 3,
   "metadata": {
    "code_folding": [
     0
    ]
   },
   "outputs": [
    {
     "name": "stdout",
     "output_type": "stream",
     "text": [
      "Pythia generator initialized successfully:  True\n"
     ]
    }
   ],
   "source": [
    "# Setup Pythia Parameters\n",
    "# Generator. Shorthand for event.\n",
    "pythia = pythia8.Pythia()\n",
    "\n",
    "# Set up incoming beams, for frame with equal beam energies.\n",
    "# BeamA = proton.\n",
    "pythia.readString(\"Beams:idA = 2212\")\n",
    "pythia.readString(\"Beams:idB = 2212\")\n",
    "pythia.settings.parm(\"Beams:eCM\", 14000.)\n",
    "# QCD pp\n",
    "pythia.readString(\"HardQCD:all = on\");\n",
    "pythia.readString(\"PhaseSpace:pTHatMin = 200.\")\n",
    "\n",
    "# Process selection.\n",
    "# pythia.readString(\"WeakSingleBoson:ffbar2W = on\");\n",
    "# Switch off all W decays and then switch back on those to quarks.\n",
    "# pythia.readString(\"24:onMode = off\");\n",
    "# pythia.readString(\"24:onIfAny = 1 2 3 4 5\");\n",
    "\n",
    "# Initialize.\n",
    "print(\"Pythia generator initialized successfully: \", pythia.init())"
   ]
  },
  {
   "cell_type": "code",
   "execution_count": 4,
   "metadata": {},
   "outputs": [],
   "source": [
    "def selection(prt):\n",
    "    sel = prt.isFinal() and prt.vProd().pAbs()<1000 #and prtStable(prt.id()) # and prt.isCharged()\n",
    "    return sel"
   ]
  },
  {
   "cell_type": "code",
   "execution_count": 5,
   "metadata": {
    "code_folding": [
     0
    ]
   },
   "outputs": [],
   "source": [
    "# # Full Verbose for Debugging\n",
    "# nEvents = 1\n",
    "# events = list()\n",
    "# for iEvent in range(1,nEvents+1):\n",
    "#     if not pythia.next(): continue\n",
    "#     event = pythia.event \n",
    "#     print(\"==\"*20 + f\" Event {iEvent:^3d}/{nEvents:^3d} \" + \"==\"*20)\n",
    "#     print((\"{:^2s} {:^11s} {:^5s} {:^6s} {:^8s} {:^8s}   \" + 5*\"{:^10s}\").format(\"N\",\"NAME\",\"ID\",\"STATUS\",\"PARENTS\",\"CHILDREN\",\"E\", \"px\", \"py\", \"pz\" , \"m\"))\n",
    "#     df = pd.DataFrame(columns=[\"N\",\"NAME\",\"ID\",\"STATUS\",\"M1\",\"M2\",\"D1\",\"D2\",\"E\", \"px\", \"py\", \"pz\" , \"mass\",\"eta\",\"phi\",\"theta\"])\n",
    "#     for prt in event:\n",
    "#         print(getInfo(prt))\n",
    "#         if selection(prt):\n",
    "#             df = df.append(getData(prt),ignore_index=True)\n",
    "#         if abs(prt.id())==24: \n",
    "#             index = prt.index()\n",
    "#             print(\"-\"*100)\n",
    "#     W = event[index] #get outgoing parton\n",
    "#     df = df.append(getData(W),ignore_index=True)\n",
    "#     df.name = f\"Event {iEvent}\"\n",
    "#     #get outgoing parton daughters\n",
    "#     fs_daughters = np.unique([daughterid for daughterid in W.daughterListRecursive()\\\n",
    "#                     if selection(event[daughterid])])\n",
    "#     mask = np.zeros(len(df)).astype(\"int\")\n",
    "#     mask[df.N.isin(fs_daughters).tolist()] = 1\n",
    "#     df[\"mask\"] = mask\n",
    "#     events.append(df)"
   ]
  },
  {
   "cell_type": "code",
   "execution_count": null,
   "metadata": {
    "code_folding": [],
    "scrolled": true
   },
   "outputs": [
    {
     "name": "stdout",
     "output_type": "stream",
     "text": [
      "======================================== Event 1273/10000 ========================================\r"
     ]
    }
   ],
   "source": [
    "#%%capture out\n",
    "nEvents = int(1e4)\n",
    "for iEvent in range(0,nEvents):\n",
    "    if not pythia.next(): continue\n",
    "    event = pythia.event \n",
    "    print(\"==\"*20 + f\" Event {iEvent:^3d}/{nEvents:^3d} \" + \"==\"*20,end=\"\\r\")\n",
    "    df = pd.DataFrame(columns=[\"N\", \"E\", \"px\", \"py\", \"pz\"])\n",
    "    for prt in event:\n",
    "        if selection(prt):#\n",
    "            df = df.append(getDataLite(prt),ignore_index=True)\n",
    "    df.loc[:,[\"E\", \"px\", \"py\", \"pz\"]].to_hdf(\"data/QCD/evts_qcd.h5\", key=f\"evt{iEvent}\")"
   ]
  },
  {
   "cell_type": "code",
   "execution_count": null,
   "metadata": {},
   "outputs": [],
   "source": []
  }
 ],
 "metadata": {
  "kernelspec": {
   "display_name": "Python 3",
   "language": "python",
   "name": "python3"
  },
  "language_info": {
   "codemirror_mode": {
    "name": "ipython",
    "version": 3
   },
   "file_extension": ".py",
   "mimetype": "text/x-python",
   "name": "python",
   "nbconvert_exporter": "python",
   "pygments_lexer": "ipython3",
   "version": "3.7.9"
  }
 },
 "nbformat": 4,
 "nbformat_minor": 4
}
