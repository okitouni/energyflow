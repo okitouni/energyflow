{
 "cells": [
  {
   "cell_type": "code",
   "execution_count": 1,
   "metadata": {},
   "outputs": [],
   "source": [
    "%load_ext autoreload"
   ]
  },
  {
   "cell_type": "code",
   "execution_count": 2,
   "metadata": {
    "code_folding": []
   },
   "outputs": [],
   "source": [
    "#imports\n",
    "%autoreload 2\n",
    "import pandas as pd\n",
    "import flow, os\n",
    "from flow import Model, PTLoss, EFN\n",
    "import pytorch_lightning as pl\n",
    "from pytorch_lightning.callbacks import ModelCheckpoint\n",
    "from torch_geometric.data import Data, DataLoader\n",
    "from torch_geometric.utils import dense_to_sparse\n",
    "import torch\n",
    "import numpy as np\n",
    "from matplotlib import pyplot as plt\n",
    "from matplotlib.cm import RdBu\n",
    "plt.style.use(\"dark_paper\")"
   ]
  },
  {
   "cell_type": "code",
   "execution_count": 3,
   "metadata": {
    "code_folding": [
     0
    ]
   },
   "outputs": [],
   "source": [
    "def readme(path, string):\n",
    "    with open(os.path.join(path,'readme.txt'), 'w') as f:\n",
    "        f.write(string)"
   ]
  },
  {
   "cell_type": "code",
   "execution_count": 25,
   "metadata": {
    "code_folding": []
   },
   "outputs": [],
   "source": [
    "def process(df,target,scalars):\n",
    "    vec4 = df[df['STATUS']>0][[\"E\",\"px\",\"py\",\"pz\"]].iloc[1:].values\n",
    "    x = vec4[:,1:]/vec4[:,0].reshape(-1,1)\n",
    "    x = torch.from_numpy(x).float()\n",
    "    y = torch.from_numpy(target).float().view(1,4)\n",
    "#     distances = getDR(x)\n",
    "#     edge_index=torch_geometric.nn.radius_graph(distances,r=1)#GCNConv adds self loops\n",
    "#     edge_index=dense_to_sparse(torch.ones(x.shape[0],x.shape[0]).fill_diagonal_(0))[0]#complete\n",
    "    edge_index=dense_to_sparse(torch.eye(x.shape[0]))[0]#self only\n",
    "#     edge_index=dense_to_sparse(torch.ones(x.shape[0],x.shape[0]))[0]#complete graph\n",
    "#    edge_index=None\n",
    "    data = Data(x=x, y=y, edge_index=edge_index) \n",
    "    data.p = torch.from_numpy(vec4).float()\n",
    "    data.scalars = torch.Tensor(scalars).float().view(1,4)\n",
    "    return data"
   ]
  },
  {
   "cell_type": "markdown",
   "metadata": {},
   "source": [
    "# Load Data"
   ]
  },
  {
   "cell_type": "code",
   "execution_count": 26,
   "metadata": {},
   "outputs": [],
   "source": [
    "events_breit = pd.read_hdf('data/EIC/breit0.h5', key=f'data')\n",
    "targets = pd.read_hdf(\"data/EIC/targets_breit0.h5\",key='data').values\n",
    "scalars = pd.read_hdf(\"data/EIC/scalars0.h5\",key='data').values"
   ]
  },
  {
   "cell_type": "code",
   "execution_count": 27,
   "metadata": {},
   "outputs": [],
   "source": [
    "train_set = [process(events_breit[events_breit['EVENT']==i],y,z) for i,y,z in zip(range(1000),targets,scalars)]\n",
    "train_loader = DataLoader(train_set, batch_size=10,shuffle=True, num_workers=12)"
   ]
  },
  {
   "cell_type": "code",
   "execution_count": 28,
   "metadata": {},
   "outputs": [],
   "source": [
    "val_set = [process(events_breit[events_breit['EVENT']==i],y,z) for i,y,z in zip(range(10000,12000),targets[10000:12000],scalars[10000:12000])]\n",
    "val_loader = DataLoader(val_set, batch_size=1,shuffle=False, num_workers=12)"
   ]
  },
  {
   "cell_type": "code",
   "execution_count": 29,
   "metadata": {
    "code_folding": [
     0
    ]
   },
   "outputs": [
    {
     "name": "stdout",
     "output_type": "stream",
     "text": [
      "Data(edge_index=[2, 8], p=[8, 4], scalars=[1, 4], x=[8, 3], y=[1, 4])\n",
      "=============================================================\n",
      "Number of nodes: 8\n",
      "Number of edges: 8\n",
      "Average node degree: 1.00\n",
      "Contains isolated nodes: True\n",
      "Contains self-loops: True\n",
      "Is undirected: True\n"
     ]
    }
   ],
   "source": [
    "# Gather some statistics about the first graph.\n",
    "data = train_set[1]  # Get the first graph object.\n",
    "print(data)\n",
    "print('=============================================================')\n",
    "print(f'Number of nodes: {data.num_nodes}')\n",
    "print(f'Number of edges: {data.num_edges}')\n",
    "print(f'Average node degree: {data.num_edges / data.num_nodes:.2f}')\n",
    "print(f'Contains isolated nodes: {data.contains_isolated_nodes()}')\n",
    "print(f'Contains self-loops: {data.contains_self_loops()}')\n",
    "print(f'Is undirected: {data.is_undirected()}')"
   ]
  },
  {
   "cell_type": "markdown",
   "metadata": {},
   "source": [
    "# Instantiate network "
   ]
  },
  {
   "cell_type": "code",
   "execution_count": 30,
   "metadata": {
    "code_folding": []
   },
   "outputs": [],
   "source": [
    "torch.manual_seed(0)\n",
    "hidden_channels = 128\n",
    "nn = torch.nn.Sequential(torch.nn.Linear(3+4,hidden_channels),\n",
    "                         torch.nn.ReLU(),\n",
    "                         torch.nn.BatchNorm1d(hidden_channels),\n",
    "                         torch.nn.Linear(hidden_channels,hidden_channels),\n",
    "                         torch.nn.ReLU(),\n",
    "                         torch.nn.Linear(hidden_channels,hidden_channels),\n",
    "                         torch.nn.ReLU(),                                       \n",
    "                         torch.nn.Linear(hidden_channels,hidden_channels),\n",
    "                         torch.nn.ReLU(),\n",
    "                         torch.nn.Dropout(0.5),\n",
    "                         torch.nn.Linear(hidden_channels,1),\n",
    "                         torch.nn.Sigmoid())\n",
    "efn = EFN(nn)\n",
    "#efn_script = torch.jit.script(efn)\n",
    "optim  = torch.optim.Adam(efn.parameters(),weight_decay=0,lr=1e-5)\n",
    "module = Model(efn, optim=optim,\n",
    "               criterion=PTLoss(torch.nn.MSELoss()))\n",
    "#module.to(\"cuda:0\")"
   ]
  },
  {
   "cell_type": "code",
   "execution_count": 32,
   "metadata": {},
   "outputs": [],
   "source": [
    "train_set = [process(events_breit[events_breit['EVENT']==i],y,z) for i,y,z in zip(range(10000),targets,scalars)]\n",
    "train_loader = DataLoader(train_set, batch_size=10,shuffle=True, num_workers=12)"
   ]
  },
  {
   "cell_type": "code",
   "execution_count": null,
   "metadata": {
    "scrolled": true
   },
   "outputs": [
    {
     "name": "stderr",
     "output_type": "stream",
     "text": [
      "GPU available: True, used: True\n",
      "TPU available: False, using: 0 TPU cores\n",
      "LOCAL_RANK: 0 - CUDA_VISIBLE_DEVICES: [0]\n",
      "\n",
      "  | Name  | Type | Params\n",
      "-------------------------------\n",
      "0 | model | EFN  | 50.9 K\n"
     ]
    },
    {
     "name": "stdout",
     "output_type": "stream",
     "text": [
      "Epoch 165:  78%|#######7  | 2325/3000 [00:20<00:06, 111.09it/s, loss=0.509, v_num=28, val_loss=0.45] "
     ]
    }
   ],
   "source": [
    "# Run\n",
    "logdir = \"./lightning_logs/test_run/\"\n",
    "pl.seed_everything(42)\n",
    "bar = flow.utils.ProgressBar()\n",
    "name = \"no_weight_decay1\"\n",
    "log = flow.utils.Logger(logdir, name=name,default_hp_metric=False)\n",
    "checkpoint_path = os.path.join(logdir,f\"{name}/version_{log.version}\")\n",
    "checkpoint_callback = ModelCheckpoint(dirpath=checkpoint_path,filename=\"weights.cpkt\",save_top_k=1,monitor='val_loss',mode='min')\n",
    "trainer = pl.Trainer(logger=log, gpus=1, max_epochs=200, progress_bar_refresh_rate=1,callbacks=[bar,checkpoint_callback])\n",
    "trainer.fit(module,train_dataloader=train_loader,val_dataloaders=val_loader)\n",
    "readme(checkpoint_path, \"small dataset 1k\")"
   ]
  },
  {
   "cell_type": "code",
   "execution_count": null,
   "metadata": {},
   "outputs": [],
   "source": []
  },
  {
   "cell_type": "code",
   "execution_count": 133,
   "metadata": {},
   "outputs": [
    {
     "name": "stderr",
     "output_type": "stream",
     "text": [
      "/home/kitouni/anaconda3/envs/gnn/lib/python3.7/site-packages/ipykernel_launcher.py:16: VisibleDeprecationWarning: Creating an ndarray from ragged nested sequences (which is a list-or-tuple of lists-or-tuples-or ndarrays with different lengths or shapes) is deprecated. If you meant to do this, you must specify 'dtype=object' when creating the ndarray\n",
      "  app.launch_new_instance()\n",
      "/home/kitouni/anaconda3/envs/gnn/lib/python3.7/site-packages/ipykernel_launcher.py:17: VisibleDeprecationWarning: Creating an ndarray from ragged nested sequences (which is a list-or-tuple of lists-or-tuples-or ndarrays with different lengths or shapes) is deprecated. If you meant to do this, you must specify 'dtype=object' when creating the ndarray\n",
      "/home/kitouni/anaconda3/envs/gnn/lib/python3.7/site-packages/ipykernel_launcher.py:18: VisibleDeprecationWarning: Creating an ndarray from ragged nested sequences (which is a list-or-tuple of lists-or-tuples-or ndarrays with different lengths or shapes) is deprecated. If you meant to do this, you must specify 'dtype=object' when creating the ndarray\n",
      "/home/kitouni/anaconda3/envs/gnn/lib/python3.7/site-packages/ipykernel_launcher.py:19: VisibleDeprecationWarning: Creating an ndarray from ragged nested sequences (which is a list-or-tuple of lists-or-tuples-or ndarrays with different lengths or shapes) is deprecated. If you meant to do this, you must specify 'dtype=object' when creating the ndarray\n"
     ]
    }
   ],
   "source": [
    "efn.to(\"cuda:0\")\n",
    "weights = list()\n",
    "theta = list()\n",
    "phi = list()\n",
    "pt = list()\n",
    "E = list()\n",
    "for i in range(len(train_set)):\n",
    "    batch = train_set[i]\n",
    "    batch.to(\"cuda:0\")\n",
    "    with torch.no_grad():\n",
    "        weights.append(efn(batch).cpu().numpy())\n",
    "    theta.append(events_breit[i].loc[4:,['theta']].values)\n",
    "    phi.append(events_breit[i].loc[4:,['phi']].values)\n",
    "    pt.append(np.abs(events_breit[i].loc[4:,['pT']].values).sum())\n",
    "    E.append(np.abs(events_breit[i].loc[4:,['E']].values))\n",
    "theta = np.array(theta)\n",
    "phi = np.array(phi)\n",
    "E = np.array(E)\n",
    "weights = np.array(weights)\n",
    "pt = np.array(pt)"
   ]
  },
  {
   "cell_type": "code",
   "execution_count": 157,
   "metadata": {},
   "outputs": [
    {
     "data": {
      "text/plain": [
       "array([[ 28],\n",
       "       [ 99],\n",
       "       [236],\n",
       "       [578],\n",
       "       [755]])"
      ]
     },
     "execution_count": 157,
     "metadata": {},
     "output_type": "execute_result"
    }
   ],
   "source": [
    "np.argwhere(pt>15)"
   ]
  },
  {
   "cell_type": "code",
   "execution_count": 180,
   "metadata": {},
   "outputs": [
    {
     "data": {
      "text/plain": [
       "E    200.864764\n",
       "dtype: float64"
      ]
     },
     "execution_count": 180,
     "metadata": {},
     "output_type": "execute_result"
    }
   ],
   "source": [
    "events_breit[99].loc[3:,['E']].sum()"
   ]
  },
  {
   "cell_type": "code",
   "execution_count": 182,
   "metadata": {},
   "outputs": [
    {
     "data": {
      "text/plain": [
       "E    200.864733\n",
       "dtype: float64"
      ]
     },
     "execution_count": 182,
     "metadata": {},
     "output_type": "execute_result"
    }
   ],
   "source": [
    "events_breit[99].loc[:1,['E']].sum()"
   ]
  },
  {
   "cell_type": "code",
   "execution_count": 176,
   "metadata": {},
   "outputs": [
    {
     "data": {
      "text/html": [
       "<div>\n",
       "<style scoped>\n",
       "    .dataframe tbody tr th:only-of-type {\n",
       "        vertical-align: middle;\n",
       "    }\n",
       "\n",
       "    .dataframe tbody tr th {\n",
       "        vertical-align: top;\n",
       "    }\n",
       "\n",
       "    .dataframe thead th {\n",
       "        text-align: right;\n",
       "    }\n",
       "</style>\n",
       "<table border=\"1\" class=\"dataframe\">\n",
       "  <thead>\n",
       "    <tr style=\"text-align: right;\">\n",
       "      <th></th>\n",
       "      <th>NAME</th>\n",
       "      <th>ID</th>\n",
       "      <th>STATUS</th>\n",
       "      <th>E</th>\n",
       "      <th>px</th>\n",
       "      <th>py</th>\n",
       "      <th>pz</th>\n",
       "      <th>mass</th>\n",
       "      <th>pT</th>\n",
       "      <th>eta</th>\n",
       "      <th>phi</th>\n",
       "      <th>theta</th>\n",
       "    </tr>\n",
       "  </thead>\n",
       "  <tbody>\n",
       "    <tr>\n",
       "      <th>0</th>\n",
       "      <td>p+</td>\n",
       "      <td>2212</td>\n",
       "      <td>-12</td>\n",
       "      <td>195.601087</td>\n",
       "      <td>2.930989e-14</td>\n",
       "      <td>3.108624e-14</td>\n",
       "      <td>-195.598837</td>\n",
       "      <td>0.938270</td>\n",
       "      <td>4.272498e-14</td>\n",
       "      <td>-36.753206</td>\n",
       "      <td>0.814801</td>\n",
       "      <td>3.141593</td>\n",
       "    </tr>\n",
       "    <tr>\n",
       "      <th>1</th>\n",
       "      <td>e-</td>\n",
       "      <td>11</td>\n",
       "      <td>-12</td>\n",
       "      <td>5.263646</td>\n",
       "      <td>-1.112992e+00</td>\n",
       "      <td>-1.361959e+00</td>\n",
       "      <td>4.961078</td>\n",
       "      <td>0.000511</td>\n",
       "      <td>1.758887e+00</td>\n",
       "      <td>1.760128</td>\n",
       "      <td>-2.255937</td>\n",
       "      <td>0.340711</td>\n",
       "    </tr>\n",
       "    <tr>\n",
       "      <th>2</th>\n",
       "      <td>cbar</td>\n",
       "      <td>-4</td>\n",
       "      <td>-23</td>\n",
       "      <td>5.075560</td>\n",
       "      <td>-2.386062e-04</td>\n",
       "      <td>-2.919803e-04</td>\n",
       "      <td>4.848846</td>\n",
       "      <td>1.500000</td>\n",
       "      <td>3.770749e-04</td>\n",
       "      <td>10.154955</td>\n",
       "      <td>-2.255937</td>\n",
       "      <td>0.000078</td>\n",
       "    </tr>\n",
       "    <tr>\n",
       "      <th>3</th>\n",
       "      <td>e-</td>\n",
       "      <td>11</td>\n",
       "      <td>44</td>\n",
       "      <td>5.263646</td>\n",
       "      <td>-1.112992e+00</td>\n",
       "      <td>-1.361959e+00</td>\n",
       "      <td>-4.961078</td>\n",
       "      <td>0.000511</td>\n",
       "      <td>1.758887e+00</td>\n",
       "      <td>-1.760128</td>\n",
       "      <td>-2.255937</td>\n",
       "      <td>2.800881</td>\n",
       "    </tr>\n",
       "    <tr>\n",
       "      <th>4</th>\n",
       "      <td>pi+</td>\n",
       "      <td>211</td>\n",
       "      <td>83</td>\n",
       "      <td>6.134615</td>\n",
       "      <td>6.622634e-01</td>\n",
       "      <td>-6.270971e-01</td>\n",
       "      <td>-6.064831</td>\n",
       "      <td>0.139570</td>\n",
       "      <td>9.120546e-01</td>\n",
       "      <td>-2.593316</td>\n",
       "      <td>-0.758131</td>\n",
       "      <td>2.992327</td>\n",
       "    </tr>\n",
       "    <tr>\n",
       "      <th>5</th>\n",
       "      <td>K-</td>\n",
       "      <td>-321</td>\n",
       "      <td>83</td>\n",
       "      <td>0.834078</td>\n",
       "      <td>-2.534906e-01</td>\n",
       "      <td>-3.881668e-01</td>\n",
       "      <td>-0.486862</td>\n",
       "      <td>0.493680</td>\n",
       "      <td>4.636064e-01</td>\n",
       "      <td>-0.916403</td>\n",
       "      <td>-2.149309</td>\n",
       "      <td>2.380657</td>\n",
       "    </tr>\n",
       "    <tr>\n",
       "      <th>6</th>\n",
       "      <td>K_L0</td>\n",
       "      <td>130</td>\n",
       "      <td>91</td>\n",
       "      <td>4.503628</td>\n",
       "      <td>-3.918242e-01</td>\n",
       "      <td>2.506037e+00</td>\n",
       "      <td>-3.687994</td>\n",
       "      <td>0.497610</td>\n",
       "      <td>2.536484e+00</td>\n",
       "      <td>-1.168961</td>\n",
       "      <td>1.725893</td>\n",
       "      <td>2.539123</td>\n",
       "    </tr>\n",
       "    <tr>\n",
       "      <th>7</th>\n",
       "      <td>pi-</td>\n",
       "      <td>-211</td>\n",
       "      <td>91</td>\n",
       "      <td>2.581181</td>\n",
       "      <td>-2.020380e-01</td>\n",
       "      <td>8.278216e-01</td>\n",
       "      <td>-2.432469</td>\n",
       "      <td>0.139570</td>\n",
       "      <td>8.521197e-01</td>\n",
       "      <td>-1.771439</td>\n",
       "      <td>1.810176</td>\n",
       "      <td>2.804641</td>\n",
       "    </tr>\n",
       "    <tr>\n",
       "      <th>8</th>\n",
       "      <td>p+</td>\n",
       "      <td>2212</td>\n",
       "      <td>91</td>\n",
       "      <td>13.402095</td>\n",
       "      <td>-4.250913e-01</td>\n",
       "      <td>4.694652e-01</td>\n",
       "      <td>-13.354202</td>\n",
       "      <td>0.938270</td>\n",
       "      <td>6.333247e-01</td>\n",
       "      <td>-3.742312</td>\n",
       "      <td>2.306631</td>\n",
       "      <td>3.094203</td>\n",
       "    </tr>\n",
       "    <tr>\n",
       "      <th>9</th>\n",
       "      <td>pi+</td>\n",
       "      <td>211</td>\n",
       "      <td>91</td>\n",
       "      <td>9.641180</td>\n",
       "      <td>-1.251541e-01</td>\n",
       "      <td>-1.364539e-01</td>\n",
       "      <td>-9.638392</td>\n",
       "      <td>0.139570</td>\n",
       "      <td>1.851573e-01</td>\n",
       "      <td>-4.645543</td>\n",
       "      <td>-2.313028</td>\n",
       "      <td>3.122385</td>\n",
       "    </tr>\n",
       "    <tr>\n",
       "      <th>10</th>\n",
       "      <td>pi+</td>\n",
       "      <td>211</td>\n",
       "      <td>91</td>\n",
       "      <td>54.468410</td>\n",
       "      <td>-1.656034e-01</td>\n",
       "      <td>-2.160182e-01</td>\n",
       "      <td>-54.467551</td>\n",
       "      <td>0.139570</td>\n",
       "      <td>2.721917e-01</td>\n",
       "      <td>-5.992007</td>\n",
       "      <td>-2.224848</td>\n",
       "      <td>3.136595</td>\n",
       "    </tr>\n",
       "    <tr>\n",
       "      <th>11</th>\n",
       "      <td>pi-</td>\n",
       "      <td>-211</td>\n",
       "      <td>91</td>\n",
       "      <td>16.267386</td>\n",
       "      <td>-1.440840e-01</td>\n",
       "      <td>3.262402e-01</td>\n",
       "      <td>-16.262877</td>\n",
       "      <td>0.139570</td>\n",
       "      <td>3.566411e-01</td>\n",
       "      <td>-4.513178</td>\n",
       "      <td>1.986685</td>\n",
       "      <td>3.119666</td>\n",
       "    </tr>\n",
       "    <tr>\n",
       "      <th>12</th>\n",
       "      <td>pi-</td>\n",
       "      <td>-211</td>\n",
       "      <td>91</td>\n",
       "      <td>2.281124</td>\n",
       "      <td>-2.026783e-01</td>\n",
       "      <td>2.365241e-01</td>\n",
       "      <td>-2.255444</td>\n",
       "      <td>0.139570</td>\n",
       "      <td>3.114838e-01</td>\n",
       "      <td>-2.677636</td>\n",
       "      <td>2.279284</td>\n",
       "      <td>3.004358</td>\n",
       "    </tr>\n",
       "    <tr>\n",
       "      <th>13</th>\n",
       "      <td>K_L0</td>\n",
       "      <td>130</td>\n",
       "      <td>91</td>\n",
       "      <td>3.862761</td>\n",
       "      <td>1.302684e+00</td>\n",
       "      <td>-8.982480e-01</td>\n",
       "      <td>-3.488477</td>\n",
       "      <td>0.497610</td>\n",
       "      <td>1.582351e+00</td>\n",
       "      <td>-1.531569</td>\n",
       "      <td>-0.603669</td>\n",
       "      <td>2.715754</td>\n",
       "    </tr>\n",
       "    <tr>\n",
       "      <th>14</th>\n",
       "      <td>K_L0</td>\n",
       "      <td>130</td>\n",
       "      <td>91</td>\n",
       "      <td>1.408525</td>\n",
       "      <td>3.506200e-01</td>\n",
       "      <td>1.060104e-01</td>\n",
       "      <td>-1.265762</td>\n",
       "      <td>0.497610</td>\n",
       "      <td>3.662957e-01</td>\n",
       "      <td>-1.953444</td>\n",
       "      <td>0.293613</td>\n",
       "      <td>2.859900</td>\n",
       "    </tr>\n",
       "    <tr>\n",
       "      <th>15</th>\n",
       "      <td>mu+</td>\n",
       "      <td>-13</td>\n",
       "      <td>91</td>\n",
       "      <td>3.109746</td>\n",
       "      <td>7.408293e-02</td>\n",
       "      <td>2.060279e+00</td>\n",
       "      <td>-2.325751</td>\n",
       "      <td>0.105660</td>\n",
       "      <td>2.061610e+00</td>\n",
       "      <td>-0.969133</td>\n",
       "      <td>1.534854</td>\n",
       "      <td>2.416327</td>\n",
       "    </tr>\n",
       "    <tr>\n",
       "      <th>16</th>\n",
       "      <td>nu_mu</td>\n",
       "      <td>14</td>\n",
       "      <td>91</td>\n",
       "      <td>0.524969</td>\n",
       "      <td>-3.108808e-01</td>\n",
       "      <td>5.243149e-02</td>\n",
       "      <td>-0.419757</td>\n",
       "      <td>0.000000</td>\n",
       "      <td>3.152713e-01</td>\n",
       "      <td>-1.097462</td>\n",
       "      <td>2.974510</td>\n",
       "      <td>2.497401</td>\n",
       "    </tr>\n",
       "    <tr>\n",
       "      <th>17</th>\n",
       "      <td>pi+</td>\n",
       "      <td>211</td>\n",
       "      <td>91</td>\n",
       "      <td>1.284930</td>\n",
       "      <td>1.325373e-01</td>\n",
       "      <td>3.682882e-02</td>\n",
       "      <td>-1.269899</td>\n",
       "      <td>0.139570</td>\n",
       "      <td>1.375591e-01</td>\n",
       "      <td>-2.918707</td>\n",
       "      <td>0.271037</td>\n",
       "      <td>3.033690</td>\n",
       "    </tr>\n",
       "    <tr>\n",
       "      <th>18</th>\n",
       "      <td>pi-</td>\n",
       "      <td>-211</td>\n",
       "      <td>91</td>\n",
       "      <td>2.984413</td>\n",
       "      <td>1.565846e-01</td>\n",
       "      <td>-2.870548e-01</td>\n",
       "      <td>-2.963160</td>\n",
       "      <td>0.139570</td>\n",
       "      <td>3.269850e-01</td>\n",
       "      <td>-2.900275</td>\n",
       "      <td>-1.071425</td>\n",
       "      <td>3.031687</td>\n",
       "    </tr>\n",
       "    <tr>\n",
       "      <th>19</th>\n",
       "      <td>gamma</td>\n",
       "      <td>22</td>\n",
       "      <td>91</td>\n",
       "      <td>0.270286</td>\n",
       "      <td>1.326354e-02</td>\n",
       "      <td>7.350817e-02</td>\n",
       "      <td>-0.259760</td>\n",
       "      <td>0.000000</td>\n",
       "      <td>7.469520e-02</td>\n",
       "      <td>-1.959548</td>\n",
       "      <td>1.392281</td>\n",
       "      <td>2.861592</td>\n",
       "    </tr>\n",
       "    <tr>\n",
       "      <th>20</th>\n",
       "      <td>gamma</td>\n",
       "      <td>22</td>\n",
       "      <td>91</td>\n",
       "      <td>30.499711</td>\n",
       "      <td>2.352550e-01</td>\n",
       "      <td>6.892828e-02</td>\n",
       "      <td>-30.498726</td>\n",
       "      <td>0.000000</td>\n",
       "      <td>2.451449e-01</td>\n",
       "      <td>-5.516754</td>\n",
       "      <td>0.285017</td>\n",
       "      <td>3.133555</td>\n",
       "    </tr>\n",
       "    <tr>\n",
       "      <th>21</th>\n",
       "      <td>gamma</td>\n",
       "      <td>22</td>\n",
       "      <td>91</td>\n",
       "      <td>6.141241</td>\n",
       "      <td>9.171938e-02</td>\n",
       "      <td>-2.736885e-02</td>\n",
       "      <td>-6.140495</td>\n",
       "      <td>0.000000</td>\n",
       "      <td>9.571571e-02</td>\n",
       "      <td>-4.854486</td>\n",
       "      <td>-0.289986</td>\n",
       "      <td>3.126006</td>\n",
       "    </tr>\n",
       "    <tr>\n",
       "      <th>22</th>\n",
       "      <td>pi+</td>\n",
       "      <td>211</td>\n",
       "      <td>91</td>\n",
       "      <td>0.292156</td>\n",
       "      <td>8.749714e-02</td>\n",
       "      <td>6.474839e-02</td>\n",
       "      <td>-0.232438</td>\n",
       "      <td>0.139570</td>\n",
       "      <td>1.088490e-01</td>\n",
       "      <td>-1.502605</td>\n",
       "      <td>0.637074</td>\n",
       "      <td>2.703631</td>\n",
       "    </tr>\n",
       "    <tr>\n",
       "      <th>23</th>\n",
       "      <td>pi-</td>\n",
       "      <td>-211</td>\n",
       "      <td>91</td>\n",
       "      <td>0.348742</td>\n",
       "      <td>-5.510271e-02</td>\n",
       "      <td>9.273758e-02</td>\n",
       "      <td>-0.300840</td>\n",
       "      <td>0.139570</td>\n",
       "      <td>1.078729e-01</td>\n",
       "      <td>-1.749469</td>\n",
       "      <td>2.106925</td>\n",
       "      <td>2.797302</td>\n",
       "    </tr>\n",
       "    <tr>\n",
       "      <th>24</th>\n",
       "      <td>gamma</td>\n",
       "      <td>22</td>\n",
       "      <td>91</td>\n",
       "      <td>2.967144</td>\n",
       "      <td>-2.373038e-01</td>\n",
       "      <td>4.499218e-02</td>\n",
       "      <td>-2.957297</td>\n",
       "      <td>0.000000</td>\n",
       "      <td>2.415313e-01</td>\n",
       "      <td>-3.199842</td>\n",
       "      <td>2.954219</td>\n",
       "      <td>3.060101</td>\n",
       "    </tr>\n",
       "    <tr>\n",
       "      <th>25</th>\n",
       "      <td>gamma</td>\n",
       "      <td>22</td>\n",
       "      <td>91</td>\n",
       "      <td>4.268290</td>\n",
       "      <td>-1.807736e-01</td>\n",
       "      <td>4.689534e-02</td>\n",
       "      <td>-4.264203</td>\n",
       "      <td>0.000000</td>\n",
       "      <td>1.867572e-01</td>\n",
       "      <td>-3.821828</td>\n",
       "      <td>2.887773</td>\n",
       "      <td>3.097824</td>\n",
       "    </tr>\n",
       "    <tr>\n",
       "      <th>26</th>\n",
       "      <td>gamma</td>\n",
       "      <td>22</td>\n",
       "      <td>91</td>\n",
       "      <td>0.573198</td>\n",
       "      <td>7.149387e-02</td>\n",
       "      <td>-5.495820e-01</td>\n",
       "      <td>-0.146303</td>\n",
       "      <td>0.000000</td>\n",
       "      <td>5.542127e-01</td>\n",
       "      <td>-0.261011</td>\n",
       "      <td>-1.441435</td>\n",
       "      <td>1.828893</td>\n",
       "    </tr>\n",
       "    <tr>\n",
       "      <th>27</th>\n",
       "      <td>gamma</td>\n",
       "      <td>22</td>\n",
       "      <td>91</td>\n",
       "      <td>2.625691</td>\n",
       "      <td>6.177757e-02</td>\n",
       "      <td>4.627625e-02</td>\n",
       "      <td>-2.624556</td>\n",
       "      <td>0.000000</td>\n",
       "      <td>7.718782e-02</td>\n",
       "      <td>-4.219789</td>\n",
       "      <td>0.642911</td>\n",
       "      <td>3.112191</td>\n",
       "    </tr>\n",
       "    <tr>\n",
       "      <th>28</th>\n",
       "      <td>gamma</td>\n",
       "      <td>22</td>\n",
       "      <td>91</td>\n",
       "      <td>8.371534</td>\n",
       "      <td>5.662410e-02</td>\n",
       "      <td>-4.837267e-02</td>\n",
       "      <td>-8.371203</td>\n",
       "      <td>0.000000</td>\n",
       "      <td>7.447284e-02</td>\n",
       "      <td>-5.415285</td>\n",
       "      <td>-0.706972</td>\n",
       "      <td>3.132697</td>\n",
       "    </tr>\n",
       "    <tr>\n",
       "      <th>29</th>\n",
       "      <td>K_L0</td>\n",
       "      <td>130</td>\n",
       "      <td>91</td>\n",
       "      <td>5.972669</td>\n",
       "      <td>-4.156560e-01</td>\n",
       "      <td>3.512353e+00</td>\n",
       "      <td>-4.787041</td>\n",
       "      <td>0.497610</td>\n",
       "      <td>3.536862e+00</td>\n",
       "      <td>-1.110637</td>\n",
       "      <td>1.688590</td>\n",
       "      <td>2.505272</td>\n",
       "    </tr>\n",
       "    <tr>\n",
       "      <th>30</th>\n",
       "      <td>gamma</td>\n",
       "      <td>22</td>\n",
       "      <td>91</td>\n",
       "      <td>0.815480</td>\n",
       "      <td>5.010343e-01</td>\n",
       "      <td>4.669332e-02</td>\n",
       "      <td>-0.641710</td>\n",
       "      <td>0.000000</td>\n",
       "      <td>5.032054e-01</td>\n",
       "      <td>-1.063266</td>\n",
       "      <td>0.092925</td>\n",
       "      <td>2.476583</td>\n",
       "    </tr>\n",
       "    <tr>\n",
       "      <th>31</th>\n",
       "      <td>gamma</td>\n",
       "      <td>22</td>\n",
       "      <td>91</td>\n",
       "      <td>0.867977</td>\n",
       "      <td>7.805000e-03</td>\n",
       "      <td>-4.843558e-02</td>\n",
       "      <td>-0.866590</td>\n",
       "      <td>0.000000</td>\n",
       "      <td>4.906041e-02</td>\n",
       "      <td>-3.565460</td>\n",
       "      <td>-1.411028</td>\n",
       "      <td>3.085040</td>\n",
       "    </tr>\n",
       "    <tr>\n",
       "      <th>32</th>\n",
       "      <td>K+</td>\n",
       "      <td>321</td>\n",
       "      <td>91</td>\n",
       "      <td>1.518787</td>\n",
       "      <td>-8.450690e-02</td>\n",
       "      <td>-1.362276e+00</td>\n",
       "      <td>-0.447276</td>\n",
       "      <td>0.493680</td>\n",
       "      <td>1.364895e+00</td>\n",
       "      <td>-0.322101</td>\n",
       "      <td>-1.632751</td>\n",
       "      <td>1.887468</td>\n",
       "    </tr>\n",
       "    <tr>\n",
       "      <th>33</th>\n",
       "      <td>pi-</td>\n",
       "      <td>-211</td>\n",
       "      <td>91</td>\n",
       "      <td>3.416388</td>\n",
       "      <td>-7.156319e-01</td>\n",
       "      <td>-3.184827e+00</td>\n",
       "      <td>-0.998486</td>\n",
       "      <td>0.139570</td>\n",
       "      <td>3.264238e+00</td>\n",
       "      <td>-0.301307</td>\n",
       "      <td>-1.791826</td>\n",
       "      <td>1.867645</td>\n",
       "    </tr>\n",
       "    <tr>\n",
       "      <th>34</th>\n",
       "      <td>gamma</td>\n",
       "      <td>22</td>\n",
       "      <td>91</td>\n",
       "      <td>1.396625</td>\n",
       "      <td>-7.200251e-02</td>\n",
       "      <td>-1.152047e+00</td>\n",
       "      <td>-0.786234</td>\n",
       "      <td>0.000000</td>\n",
       "      <td>1.154295e+00</td>\n",
       "      <td>-0.637146</td>\n",
       "      <td>-1.633215</td>\n",
       "      <td>2.168751</td>\n",
       "    </tr>\n",
       "    <tr>\n",
       "      <th>35</th>\n",
       "      <td>gamma</td>\n",
       "      <td>22</td>\n",
       "      <td>91</td>\n",
       "      <td>0.389899</td>\n",
       "      <td>5.086614e-02</td>\n",
       "      <td>-3.228972e-01</td>\n",
       "      <td>-0.212536</td>\n",
       "      <td>0.000000</td>\n",
       "      <td>3.268791e-01</td>\n",
       "      <td>-0.611390</td>\n",
       "      <td>-1.414550</td>\n",
       "      <td>2.147310</td>\n",
       "    </tr>\n",
       "    <tr>\n",
       "      <th>36</th>\n",
       "      <td>gamma</td>\n",
       "      <td>22</td>\n",
       "      <td>91</td>\n",
       "      <td>0.137570</td>\n",
       "      <td>-1.843137e-02</td>\n",
       "      <td>-1.290885e-01</td>\n",
       "      <td>-0.043841</td>\n",
       "      <td>0.000000</td>\n",
       "      <td>1.303977e-01</td>\n",
       "      <td>-0.330180</td>\n",
       "      <td>-1.712619</td>\n",
       "      <td>1.895135</td>\n",
       "    </tr>\n",
       "    <tr>\n",
       "      <th>37</th>\n",
       "      <td>gamma</td>\n",
       "      <td>22</td>\n",
       "      <td>91</td>\n",
       "      <td>1.438689</td>\n",
       "      <td>1.441385e-01</td>\n",
       "      <td>-1.240845e+00</td>\n",
       "      <td>-0.713691</td>\n",
       "      <td>0.000000</td>\n",
       "      <td>1.249188e+00</td>\n",
       "      <td>-0.544080</td>\n",
       "      <td>-1.455153</td>\n",
       "      <td>2.089863</td>\n",
       "    </tr>\n",
       "  </tbody>\n",
       "</table>\n",
       "</div>"
      ],
      "text/plain": [
       "     NAME    ID  STATUS           E            px            py          pz  \\\n",
       "0      p+  2212     -12  195.601087  2.930989e-14  3.108624e-14 -195.598837   \n",
       "1      e-    11     -12    5.263646 -1.112992e+00 -1.361959e+00    4.961078   \n",
       "2    cbar    -4     -23    5.075560 -2.386062e-04 -2.919803e-04    4.848846   \n",
       "3      e-    11      44    5.263646 -1.112992e+00 -1.361959e+00   -4.961078   \n",
       "4     pi+   211      83    6.134615  6.622634e-01 -6.270971e-01   -6.064831   \n",
       "5      K-  -321      83    0.834078 -2.534906e-01 -3.881668e-01   -0.486862   \n",
       "6    K_L0   130      91    4.503628 -3.918242e-01  2.506037e+00   -3.687994   \n",
       "7     pi-  -211      91    2.581181 -2.020380e-01  8.278216e-01   -2.432469   \n",
       "8      p+  2212      91   13.402095 -4.250913e-01  4.694652e-01  -13.354202   \n",
       "9     pi+   211      91    9.641180 -1.251541e-01 -1.364539e-01   -9.638392   \n",
       "10    pi+   211      91   54.468410 -1.656034e-01 -2.160182e-01  -54.467551   \n",
       "11    pi-  -211      91   16.267386 -1.440840e-01  3.262402e-01  -16.262877   \n",
       "12    pi-  -211      91    2.281124 -2.026783e-01  2.365241e-01   -2.255444   \n",
       "13   K_L0   130      91    3.862761  1.302684e+00 -8.982480e-01   -3.488477   \n",
       "14   K_L0   130      91    1.408525  3.506200e-01  1.060104e-01   -1.265762   \n",
       "15    mu+   -13      91    3.109746  7.408293e-02  2.060279e+00   -2.325751   \n",
       "16  nu_mu    14      91    0.524969 -3.108808e-01  5.243149e-02   -0.419757   \n",
       "17    pi+   211      91    1.284930  1.325373e-01  3.682882e-02   -1.269899   \n",
       "18    pi-  -211      91    2.984413  1.565846e-01 -2.870548e-01   -2.963160   \n",
       "19  gamma    22      91    0.270286  1.326354e-02  7.350817e-02   -0.259760   \n",
       "20  gamma    22      91   30.499711  2.352550e-01  6.892828e-02  -30.498726   \n",
       "21  gamma    22      91    6.141241  9.171938e-02 -2.736885e-02   -6.140495   \n",
       "22    pi+   211      91    0.292156  8.749714e-02  6.474839e-02   -0.232438   \n",
       "23    pi-  -211      91    0.348742 -5.510271e-02  9.273758e-02   -0.300840   \n",
       "24  gamma    22      91    2.967144 -2.373038e-01  4.499218e-02   -2.957297   \n",
       "25  gamma    22      91    4.268290 -1.807736e-01  4.689534e-02   -4.264203   \n",
       "26  gamma    22      91    0.573198  7.149387e-02 -5.495820e-01   -0.146303   \n",
       "27  gamma    22      91    2.625691  6.177757e-02  4.627625e-02   -2.624556   \n",
       "28  gamma    22      91    8.371534  5.662410e-02 -4.837267e-02   -8.371203   \n",
       "29   K_L0   130      91    5.972669 -4.156560e-01  3.512353e+00   -4.787041   \n",
       "30  gamma    22      91    0.815480  5.010343e-01  4.669332e-02   -0.641710   \n",
       "31  gamma    22      91    0.867977  7.805000e-03 -4.843558e-02   -0.866590   \n",
       "32     K+   321      91    1.518787 -8.450690e-02 -1.362276e+00   -0.447276   \n",
       "33    pi-  -211      91    3.416388 -7.156319e-01 -3.184827e+00   -0.998486   \n",
       "34  gamma    22      91    1.396625 -7.200251e-02 -1.152047e+00   -0.786234   \n",
       "35  gamma    22      91    0.389899  5.086614e-02 -3.228972e-01   -0.212536   \n",
       "36  gamma    22      91    0.137570 -1.843137e-02 -1.290885e-01   -0.043841   \n",
       "37  gamma    22      91    1.438689  1.441385e-01 -1.240845e+00   -0.713691   \n",
       "\n",
       "        mass            pT        eta       phi     theta  \n",
       "0   0.938270  4.272498e-14 -36.753206  0.814801  3.141593  \n",
       "1   0.000511  1.758887e+00   1.760128 -2.255937  0.340711  \n",
       "2   1.500000  3.770749e-04  10.154955 -2.255937  0.000078  \n",
       "3   0.000511  1.758887e+00  -1.760128 -2.255937  2.800881  \n",
       "4   0.139570  9.120546e-01  -2.593316 -0.758131  2.992327  \n",
       "5   0.493680  4.636064e-01  -0.916403 -2.149309  2.380657  \n",
       "6   0.497610  2.536484e+00  -1.168961  1.725893  2.539123  \n",
       "7   0.139570  8.521197e-01  -1.771439  1.810176  2.804641  \n",
       "8   0.938270  6.333247e-01  -3.742312  2.306631  3.094203  \n",
       "9   0.139570  1.851573e-01  -4.645543 -2.313028  3.122385  \n",
       "10  0.139570  2.721917e-01  -5.992007 -2.224848  3.136595  \n",
       "11  0.139570  3.566411e-01  -4.513178  1.986685  3.119666  \n",
       "12  0.139570  3.114838e-01  -2.677636  2.279284  3.004358  \n",
       "13  0.497610  1.582351e+00  -1.531569 -0.603669  2.715754  \n",
       "14  0.497610  3.662957e-01  -1.953444  0.293613  2.859900  \n",
       "15  0.105660  2.061610e+00  -0.969133  1.534854  2.416327  \n",
       "16  0.000000  3.152713e-01  -1.097462  2.974510  2.497401  \n",
       "17  0.139570  1.375591e-01  -2.918707  0.271037  3.033690  \n",
       "18  0.139570  3.269850e-01  -2.900275 -1.071425  3.031687  \n",
       "19  0.000000  7.469520e-02  -1.959548  1.392281  2.861592  \n",
       "20  0.000000  2.451449e-01  -5.516754  0.285017  3.133555  \n",
       "21  0.000000  9.571571e-02  -4.854486 -0.289986  3.126006  \n",
       "22  0.139570  1.088490e-01  -1.502605  0.637074  2.703631  \n",
       "23  0.139570  1.078729e-01  -1.749469  2.106925  2.797302  \n",
       "24  0.000000  2.415313e-01  -3.199842  2.954219  3.060101  \n",
       "25  0.000000  1.867572e-01  -3.821828  2.887773  3.097824  \n",
       "26  0.000000  5.542127e-01  -0.261011 -1.441435  1.828893  \n",
       "27  0.000000  7.718782e-02  -4.219789  0.642911  3.112191  \n",
       "28  0.000000  7.447284e-02  -5.415285 -0.706972  3.132697  \n",
       "29  0.497610  3.536862e+00  -1.110637  1.688590  2.505272  \n",
       "30  0.000000  5.032054e-01  -1.063266  0.092925  2.476583  \n",
       "31  0.000000  4.906041e-02  -3.565460 -1.411028  3.085040  \n",
       "32  0.493680  1.364895e+00  -0.322101 -1.632751  1.887468  \n",
       "33  0.139570  3.264238e+00  -0.301307 -1.791826  1.867645  \n",
       "34  0.000000  1.154295e+00  -0.637146 -1.633215  2.168751  \n",
       "35  0.000000  3.268791e-01  -0.611390 -1.414550  2.147310  \n",
       "36  0.000000  1.303977e-01  -0.330180 -1.712619  1.895135  \n",
       "37  0.000000  1.249188e+00  -0.544080 -1.455153  2.089863  "
      ]
     },
     "execution_count": 176,
     "metadata": {},
     "output_type": "execute_result"
    }
   ],
   "source": [
    "events_breit[99]"
   ]
  },
  {
   "cell_type": "code",
   "execution_count": null,
   "metadata": {},
   "outputs": [],
   "source": []
  },
  {
   "cell_type": "code",
   "execution_count": 183,
   "metadata": {},
   "outputs": [
    {
     "data": {
      "image/png": "[encoded data removed]",
      "text/plain": [
       "<Figure size 960x800 with 1 Axes>"
      ]
     },
     "metadata": {},
     "output_type": "display_data"
    }
   ],
   "source": [
    "fig,ax = plt.subplots(1,1,figsize=(6,5), dpi=160)\n",
    "minpt = 20\n",
    "maxpt = 21\n",
    "cond = (pt>minpt)&(pt<maxpt)\n",
    "cond = 99\n",
    "weights_ = np.concatenate(weights[cond]).flatten()\n",
    "theta_ = np.concatenate(theta[cond]).flatten()\n",
    "phi_ = np.concatenate(phi[cond]).flatten()\n",
    "E_ = np.concatenate(E[cond]).flatten()\n",
    "colors = RdBu(weights_/weights_.max())\n",
    "plt.scatter(phi_,theta_, alpha = 0.5, s=E_*10, c=colors)\n",
    "plt.xlim([-np.pi,np.pi])\n",
    "plt.ylim([0,np.pi])\n",
    "ax.set_facecolor('w')"
   ]
  },
  {
   "cell_type": "code",
   "execution_count": 148,
   "metadata": {},
   "outputs": [
    {
     "data": {
      "image/png": "[encoded data removed]",
      "text/plain": [
       "<Figure size 960x800 with 1 Axes>"
      ]
     },
     "metadata": {},
     "output_type": "display_data"
    }
   ],
   "source": [
    "fig,ax = plt.subplots(1,1,figsize=(6,5), dpi=160)\n",
    "minpt = 0\n",
    "maxpt = 2\n",
    "weights_ = np.concatenate(weights[(pt>minpt)&(pt<maxpt)]).flatten()\n",
    "theta_ = np.concatenate(theta[(pt>minpt)&(pt<maxpt)]).flatten()\n",
    "phi_ = np.concatenate(phi[(pt>minpt)&(pt<maxpt)]).flatten()\n",
    "E_ = np.concatenate(E[(pt>minpt)&(pt<maxpt)]).flatten()\n",
    "colors = RdBu(weights_/weights_.max())\n",
    "plt.scatter(phi_,theta_, alpha = 0.5, s=E_*10, c=colors)\n",
    "plt.xlim([-np.pi,np.pi])\n",
    "plt.ylim([0,np.pi])\n",
    "ax.set_facecolor('w')"
   ]
  },
  {
   "cell_type": "code",
   "execution_count": 112,
   "metadata": {},
   "outputs": [
    {
     "data": {
      "image/png": "[encoded data removed]",
      "text/plain": [
       "<Figure size 600x480 with 2 Axes>"
      ]
     },
     "metadata": {},
     "output_type": "display_data"
    }
   ],
   "source": [
    "from matplotlib.colors import LogNorm\n",
    "fig,ax = plt.subplots(1,1,figsize=(5,4), dpi=120)\n",
    "minpt = 15\n",
    "theta_ = np.concatenate(theta[pt>minpt]).flatten()\n",
    "weights_ = np.concatenate(weights[pt>minpt]).flatten()\n",
    "plt.hist2d(theta_,weights_,bins=20,norm=LogNorm())\n",
    "plt.xlabel(r\"$\\theta$\")\n",
    "plt.ylabel(\"weight\")\n",
    "plt.xlim([0,np.pi])\n",
    "plt.colorbar()\n",
    "plt.show()"
   ]
  },
  {
   "cell_type": "code",
   "execution_count": 100,
   "metadata": {},
   "outputs": [
    {
     "data": {
      "text/plain": [
       "(array([23.,  2.,  0.,  1.,  0.,  0.,  2.,  1.,  1.,  4.]),\n",
       " array([0. , 0.1, 0.2, 0.3, 0.4, 0.5, 0.6, 0.7, 0.8, 0.9, 1. ],\n",
       "       dtype=float32),\n",
       " <BarContainer object of 10 artists>)"
      ]
     },
     "execution_count": 100,
     "metadata": {},
     "output_type": "execute_result"
    },
    {
     "data": {
      "image/png": "[encoded data removed]",
      "text/plain": [
       "<Figure size 432x288 with 1 Axes>"
      ]
     },
     "metadata": {},
     "output_type": "display_data"
    }
   ],
   "source": [
    "plt.hist(np.concatenate(weights[pt>23]).flatten())"
   ]
  },
  {
   "cell_type": "code",
   "execution_count": 81,
   "metadata": {},
   "outputs": [
    {
     "data": {
      "image/png": "[encoded data removed]",
      "text/plain": [
       "<Figure size 600x480 with 1 Axes>"
      ]
     },
     "metadata": {},
     "output_type": "display_data"
    }
   ],
   "source": [
    "fig,ax = plt.subplots(1,1,figsize=(5,4), dpi=120)\n",
    "out = plt.hist(pt)\n",
    "plt.yscale('log')\n",
    "plt.xlabel(r\"$\\sum|{p_T}_i|$\")\n",
    "plt.ylabel(\"count\")\n",
    "plt.show()"
   ]
  },
  {
   "cell_type": "code",
   "execution_count": 76,
   "metadata": {},
   "outputs": [
    {
     "data": {
      "image/png": "[encoded data removed]",
      "text/plain": [
       "<Figure size 600x480 with 2 Axes>"
      ]
     },
     "metadata": {},
     "output_type": "display_data"
    }
   ],
   "source": [
    "from matplotlib.colors import LogNorm\n",
    "fig,ax = plt.subplots(1,1,figsize=(5,4), dpi=120)\n",
    "plt.hist2d(theta,weights,bins=20,norm=LogNorm())\n",
    "plt.xlabel(r\"$\\theta$\")\n",
    "plt.ylabel(\"weight\")\n",
    "plt.colorbar()\n",
    "plt.show()"
   ]
  },
  {
   "cell_type": "code",
   "execution_count": null,
   "metadata": {},
   "outputs": [],
   "source": []
  },
  {
   "cell_type": "code",
   "execution_count": 83,
   "metadata": {},
   "outputs": [
    {
     "ename": "IndexError",
     "evalue": "boolean index did not match indexed array along dimension 0; dimension is 15098 but corresponding boolean dimension is 900",
     "output_type": "error",
     "traceback": [
      "\u001b[0;31m---------------------------------------------------------------------------\u001b[0m",
      "\u001b[0;31mIndexError\u001b[0m                                Traceback (most recent call last)",
      "\u001b[0;32m<ipython-input-83-afaee28ab8c1>\u001b[0m in \u001b[0;36m<module>\u001b[0;34m\u001b[0m\n\u001b[1;32m      1\u001b[0m \u001b[0mfig\u001b[0m\u001b[0;34m,\u001b[0m\u001b[0max\u001b[0m \u001b[0;34m=\u001b[0m \u001b[0mplt\u001b[0m\u001b[0;34m.\u001b[0m\u001b[0msubplots\u001b[0m\u001b[0;34m(\u001b[0m\u001b[0;36m1\u001b[0m\u001b[0;34m,\u001b[0m\u001b[0;36m1\u001b[0m\u001b[0;34m,\u001b[0m\u001b[0mfigsize\u001b[0m\u001b[0;34m=\u001b[0m\u001b[0;34m(\u001b[0m\u001b[0;36m6\u001b[0m\u001b[0;34m,\u001b[0m\u001b[0;36m4\u001b[0m\u001b[0;34m)\u001b[0m\u001b[0;34m,\u001b[0m \u001b[0mdpi\u001b[0m\u001b[0;34m=\u001b[0m\u001b[0;36m120\u001b[0m\u001b[0;34m)\u001b[0m\u001b[0;34m\u001b[0m\u001b[0;34m\u001b[0m\u001b[0m\n\u001b[0;32m----> 2\u001b[0;31m \u001b[0mplt\u001b[0m\u001b[0;34m.\u001b[0m\u001b[0mhist\u001b[0m\u001b[0;34m(\u001b[0m\u001b[0mweights\u001b[0m\u001b[0;34m[\u001b[0m\u001b[0mpt\u001b[0m\u001b[0;34m>\u001b[0m\u001b[0;36m10\u001b[0m\u001b[0;34m]\u001b[0m\u001b[0;34m)\u001b[0m\u001b[0;34m\u001b[0m\u001b[0;34m\u001b[0m\u001b[0m\n\u001b[0m\u001b[1;32m      3\u001b[0m \u001b[0mplt\u001b[0m\u001b[0;34m.\u001b[0m\u001b[0mxlabel\u001b[0m\u001b[0;34m(\u001b[0m\u001b[0;34m\"weight\"\u001b[0m\u001b[0;34m)\u001b[0m\u001b[0;34m\u001b[0m\u001b[0;34m\u001b[0m\u001b[0m\n\u001b[1;32m      4\u001b[0m \u001b[0mplt\u001b[0m\u001b[0;34m.\u001b[0m\u001b[0mylabel\u001b[0m\u001b[0;34m(\u001b[0m\u001b[0;34m\"count\"\u001b[0m\u001b[0;34m)\u001b[0m\u001b[0;34m\u001b[0m\u001b[0;34m\u001b[0m\u001b[0m\n\u001b[1;32m      5\u001b[0m \u001b[0mplt\u001b[0m\u001b[0;34m.\u001b[0m\u001b[0mshow\u001b[0m\u001b[0;34m(\u001b[0m\u001b[0;34m)\u001b[0m\u001b[0;34m\u001b[0m\u001b[0;34m\u001b[0m\u001b[0m\n",
      "\u001b[0;31mIndexError\u001b[0m: boolean index did not match indexed array along dimension 0; dimension is 15098 but corresponding boolean dimension is 900"
     ]
    },
    {
     "data": {
      "image/png": "[encoded data removed]",
      "text/plain": [
       "<Figure size 720x480 with 1 Axes>"
      ]
     },
     "metadata": {},
     "output_type": "display_data"
    }
   ],
   "source": [
    "fig,ax = plt.subplots(1,1,figsize=(6,4), dpi=120)\n",
    "plt.hist(weights[pt>10])\n",
    "plt.xlabel(\"weight\")\n",
    "plt.ylabel(\"count\")\n",
    "plt.show()"
   ]
  },
  {
   "cell_type": "code",
   "execution_count": 72,
   "metadata": {},
   "outputs": [
    {
     "data": {
      "text/plain": [
       "<matplotlib.legend.Legend at 0x7f7694242350>"
      ]
     },
     "execution_count": 72,
     "metadata": {},
     "output_type": "execute_result"
    },
    {
     "data": {
      "image/png": "[encoded data removed]",
      "text/plain": [
       "<Figure size 720x480 with 1 Axes>"
      ]
     },
     "metadata": {},
     "output_type": "display_data"
    }
   ],
   "source": [
    "fig,ax = plt.subplots(1,1,figsize=(6,4), dpi=120)\n",
    "plt.hist(theta[weights>.99],label=r'$w_i>.99$')\n",
    "plt.hist(theta[weights<.01],label=r'$w_i<.01$')\n",
    "plt.xlabel(r\"$\\theta$\")\n",
    "plt.ylabel(\"count\")\n",
    "plt.legend()"
   ]
  },
  {
   "cell_type": "code",
   "execution_count": null,
   "metadata": {},
   "outputs": [],
   "source": []
  }
 ],
 "metadata": {
  "kernelspec": {
   "display_name": "Python 3",
   "language": "python",
   "name": "python3"
  },
  "language_info": {
   "codemirror_mode": {
    "name": "ipython",
    "version": 3
   },
   "file_extension": ".py",
   "mimetype": "text/x-python",
   "name": "python",
   "nbconvert_exporter": "python",
   "pygments_lexer": "ipython3",
   "version": "3.7.9"
  }
 },
 "nbformat": 4,
 "nbformat_minor": 4
}
